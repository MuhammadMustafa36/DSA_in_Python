{
 "cells": [
  {
   "cell_type": "markdown",
   "id": "b9aa5e32",
   "metadata": {},
   "source": [
    "# What is Data Structure?\n",
    "Data Structure is a way of storing and organizing data in a computer memory.so it can be used to store and retrieve data efficiently."
   ]
  },
  {
   "cell_type": "markdown",
   "id": "14854e63",
   "metadata": {},
   "source": [
    "# Classifying Data Structures\n",
    "There are two types of data structures:\n",
    "1. Linear Data Structures\n",
    "2. Non-Linear Data Structures\n",
    "\n",
    "# Linear Data Structures\n",
    "Linear data structures are data structures that store data in a linear fashion, meaning that the data is stored in a single line or in a single dimension.\n",
    "\n",
    "# Non-Linear Data Structures\n",
    "Non-linear data structures are data structures that store data in a non-linear fashion, meaning that the data is stored in multiple lines or in multiple dimensions.\n"
   ]
  }
 ],
 "metadata": {
  "language_info": {
   "name": "python"
  }
 },
 "nbformat": 4,
 "nbformat_minor": 5
}
